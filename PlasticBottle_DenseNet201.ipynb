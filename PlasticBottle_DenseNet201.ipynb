{
  "nbformat": 4,
  "nbformat_minor": 0,
  "metadata": {
    "colab": {
      "provenance": [],
      "machine_shape": "hm",
      "gpuType": "V100"
    },
    "kernelspec": {
      "name": "python3",
      "display_name": "Python 3"
    },
    "language_info": {
      "name": "python"
    },
    "accelerator": "GPU"
  },
  "cells": [
    {
      "cell_type": "markdown",
      "source": [
        "# Plastic Bottle Classification With DenseNet201\n",
        "\n",
        "---\n",
        "\n",
        "\n",
        "\n"
      ],
      "metadata": {
        "id": "K9vWU1h3ZFmn"
      }
    },
    {
      "cell_type": "markdown",
      "source": [
        "## Dataset Preparation"
      ],
      "metadata": {
        "id": "UaYqOFwCYFzZ"
      }
    },
    {
      "cell_type": "code",
      "source": [
        "clear all"
      ],
      "metadata": {
        "colab": {
          "base_uri": "https://localhost:8080/"
        },
        "id": "wWQ3_T2AARUz",
        "outputId": "dbac09c7-9cdf-41a3-9f17-43ef036c3ee4"
      },
      "execution_count": null,
      "outputs": [
        {
          "output_type": "stream",
          "name": "stdout",
          "text": [
            "\u001b[H\u001b[2J"
          ]
        }
      ]
    },
    {
      "cell_type": "markdown",
      "source": [
        "### 1. Menyambungkan drive colab dengan drive google\n",
        "\n"
      ],
      "metadata": {
        "id": "MicWU5NUX5ag"
      }
    },
    {
      "cell_type": "code",
      "execution_count": null,
      "metadata": {
        "id": "a5yD017FLrOX",
        "colab": {
          "base_uri": "https://localhost:8080/"
        },
        "outputId": "5676e0cb-4526-4f1b-95be-be6adcde538b"
      },
      "outputs": [
        {
          "output_type": "stream",
          "name": "stdout",
          "text": [
            "Mounted at /content/drive\n"
          ]
        }
      ],
      "source": [
        "from google.colab import drive\n",
        "import os\n",
        "\n",
        "drive.mount('/content/drive')"
      ]
    },
    {
      "cell_type": "markdown",
      "source": [
        "### 2. Mendefinisikan folder yang digunakan"
      ],
      "metadata": {
        "id": "pyAJNfOoYeVh"
      }
    },
    {
      "cell_type": "code",
      "source": [
        "base_dir = '/content/drive/My Drive/plasticproject/datasets2'\n",
        "!ls \"/content/drive/My Drive/plasticproject/datasets2\""
      ],
      "metadata": {
        "id": "Tq57Jn3ML1Ol",
        "colab": {
          "base_uri": "https://localhost:8080/"
        },
        "outputId": "bb78a868-247c-4190-8519-f2aeb55dce70"
      },
      "execution_count": null,
      "outputs": [
        {
          "output_type": "stream",
          "name": "stdout",
          "text": [
            "train  val\n"
          ]
        }
      ]
    },
    {
      "cell_type": "markdown",
      "source": [
        "### 3. Definisi dataset yang digunakan (Train, Validation, dan Test)"
      ],
      "metadata": {
        "id": "RgPtt9XzYmko"
      }
    },
    {
      "cell_type": "code",
      "source": [
        "train_dir = os.path.join(base_dir,'train')\n",
        "validation_dir = os.path.join(base_dir,'val')\n",
        "testing_dir = os.path.join(base_dir,'val')"
      ],
      "metadata": {
        "id": "jXtoMWiUL5cb"
      },
      "execution_count": null,
      "outputs": []
    },
    {
      "cell_type": "code",
      "source": [
        "HDPE_train_dir = os.path.join(train_dir,'HDPE')\n",
        "PET_train_dir = os.path.join(train_dir,'PET')\n",
        "print(\"Jumlah Data Train Tiap Kelas\")\n",
        "print('jumlah gambar train PET :', len(os.listdir(PET_train_dir)))\n",
        "print('jumlah gambar train HDPE :', len(os.listdir(HDPE_train_dir)))"
      ],
      "metadata": {
        "id": "EH7b-2KtL7dU",
        "colab": {
          "base_uri": "https://localhost:8080/"
        },
        "outputId": "8aafd93d-ebd9-460b-d27a-5d98b369d5bf"
      },
      "execution_count": null,
      "outputs": [
        {
          "output_type": "stream",
          "name": "stdout",
          "text": [
            "Jumlah Data Train Tiap Kelas\n",
            "jumlah gambar train PET : 734\n",
            "jumlah gambar train HDPE : 824\n"
          ]
        }
      ]
    },
    {
      "cell_type": "code",
      "source": [
        "HDPE_validation_dir = os.path.join(validation_dir,'HDPE')\n",
        "PET_validation_dir = os.path.join(validation_dir,'PET')\n",
        "print(\"Jumlah Data Validasi Tiap Kelas\")\n",
        "print('jumlah gambar validasi PET :', len(os.listdir(PET_validation_dir)))\n",
        "print('jumlah gambar validasi HDPE :', len(os.listdir(HDPE_validation_dir)))"
      ],
      "metadata": {
        "id": "Z1N9wAVJL9Rs",
        "colab": {
          "base_uri": "https://localhost:8080/"
        },
        "outputId": "7e605dfa-0b64-4418-e35f-6b61adbe9845"
      },
      "execution_count": null,
      "outputs": [
        {
          "output_type": "stream",
          "name": "stdout",
          "text": [
            "Jumlah Data Validasi Tiap Kelas\n",
            "jumlah gambar validasi PET : 315\n",
            "jumlah gambar validasi HDPE : 354\n"
          ]
        }
      ]
    },
    {
      "cell_type": "code",
      "source": [
        "HDPE_test_dir = os.path.join(testing_dir,'HDPE')\n",
        "PET_test_dir = os.path.join(testing_dir,'PET')\n",
        "print(\"Jumlah Data tes Tiap Kelas\")\n",
        "print('jumlah gambar test PET :', len(os.listdir(PET_validation_dir)))\n",
        "print('jumlah gambar test HDPE :', len(os.listdir(HDPE_validation_dir)))"
      ],
      "metadata": {
        "id": "bFslEKtkL-Ij",
        "colab": {
          "base_uri": "https://localhost:8080/"
        },
        "outputId": "a7f52575-fc46-4567-ee50-10e2b8398a8b"
      },
      "execution_count": null,
      "outputs": [
        {
          "output_type": "stream",
          "name": "stdout",
          "text": [
            "Jumlah Data tes Tiap Kelas\n",
            "jumlah gambar test PET : 315\n",
            "jumlah gambar test HDPE : 354\n"
          ]
        }
      ]
    },
    {
      "cell_type": "markdown",
      "source": [
        "## Pre-Processing"
      ],
      "metadata": {
        "id": "mFteHh4MY4XR"
      }
    },
    {
      "cell_type": "markdown",
      "source": [
        "### 1. Data Augmentation"
      ],
      "metadata": {
        "id": "zfNi2hmKZ_fn"
      }
    },
    {
      "cell_type": "code",
      "source": [
        "import tensorflow as tf\n",
        "from tensorflow.keras.optimizers import Adam\n",
        "from tensorflow.keras.preprocessing.image import ImageDataGenerator\n",
        "\n",
        "train_datagen = ImageDataGenerator(\n",
        "                  rotation_range = 30,\n",
        "                  horizontal_flip = True,\n",
        "                  shear_range = 0.2,\n",
        "                  fill_mode = 'nearest',\n",
        "                  width_shift_range = 0.1,\n",
        "                  height_shift_range = 0.3,\n",
        "                  zoom_range = 0.4\n",
        ")\n",
        "\n",
        "val_datagen = ImageDataGenerator(\n",
        "                  rotation_range = 65,\n",
        "                  horizontal_flip = True,\n",
        "                  vertical_flip = True,\n",
        "                  shear_range = 0.2,\n",
        "                  fill_mode = 'nearest',\n",
        "                  width_shift_range = 0.1,\n",
        "                  height_shift_range = 0.3,\n",
        "                  zoom_range = 0.4\n",
        ")\n",
        "\n",
        "test_datagen = ImageDataGenerator(\n",
        "                  rotation_range = 15,\n",
        "                  horizontal_flip = True,\n",
        "                  vertical_flip = True,\n",
        "                  shear_range = 0.2,\n",
        "                  fill_mode = 'nearest',\n",
        "                  width_shift_range = 0.1,\n",
        "                  height_shift_range = 0.3,\n",
        "                  zoom_range = 0.4\n",
        ")"
      ],
      "metadata": {
        "id": "byKJdXDkMD6V"
      },
      "execution_count": null,
      "outputs": []
    },
    {
      "cell_type": "markdown",
      "source": [
        "### 2. Menentukan target"
      ],
      "metadata": {
        "id": "vh7Lp3vYaGz9"
      }
    },
    {
      "cell_type": "code",
      "source": [
        "# target\n",
        "\n",
        "train_generator = train_datagen.flow_from_directory(\n",
        "    train_dir,\n",
        "    target_size = (224, 224),\n",
        "    batch_size = 32,\n",
        "    class_mode = 'categorical'\n",
        ")\n",
        "\n",
        "val_generator = val_datagen.flow_from_directory(\n",
        "    validation_dir,\n",
        "    target_size = (224, 224),\n",
        "    batch_size = 32,\n",
        "    class_mode = 'categorical'\n",
        ")\n",
        "\n",
        "test_generator = test_datagen.flow_from_directory(\n",
        "    testing_dir,\n",
        "    target_size = (224, 224),\n",
        "    batch_size = 32,\n",
        "    shuffle=False,\n",
        "    class_mode = 'categorical'\n",
        ")\n",
        "train_generator.class_indices"
      ],
      "metadata": {
        "id": "3d5h0PfZMHer",
        "colab": {
          "base_uri": "https://localhost:8080/"
        },
        "outputId": "7652780c-e6fd-4ad3-820f-72da3d11a456"
      },
      "execution_count": null,
      "outputs": [
        {
          "output_type": "stream",
          "name": "stdout",
          "text": [
            "Found 1558 images belonging to 2 classes.\n",
            "Found 669 images belonging to 2 classes.\n",
            "Found 669 images belonging to 2 classes.\n"
          ]
        },
        {
          "output_type": "execute_result",
          "data": {
            "text/plain": [
              "{'HDPE': 0, 'PET': 1}"
            ]
          },
          "metadata": {},
          "execution_count": 9
        }
      ]
    },
    {
      "cell_type": "markdown",
      "source": [
        "### 3. Plot perbandingan jumlah dataset untuk train"
      ],
      "metadata": {
        "id": "Wh4J3KGKcQae"
      }
    },
    {
      "cell_type": "code",
      "source": [
        "from sklearn.utils.class_weight import compute_class_weight\n",
        "import numpy as np\n",
        "import matplotlib.pyplot as plt\n",
        "cls_train = train_generator.classes\n",
        "from collections import OrderedDict\n",
        "classes = list(train_generator.class_indices.keys())\n",
        "num_values = []\n",
        "unique, counts = np.unique(cls_train, return_counts=True)\n",
        "valdict=OrderedDict(zip(unique, counts))\n",
        "for i in range(2):\n",
        "    num_values.append(valdict[i])\n",
        "plt.figure(figsize=(30,10))\n",
        "x = np.arange(len(num_values))\n",
        "xlabel = classes\n",
        "plt.bar(x, num_values)\n",
        "plt.xticks(x, xlabel)\n",
        "plt.show()"
      ],
      "metadata": {
        "id": "KKj2wDmbMNpb",
        "colab": {
          "base_uri": "https://localhost:8080/",
          "height": 467
        },
        "outputId": "aa4b6890-d5bb-440e-e92c-620470f2f862"
      },
      "execution_count": null,
      "outputs": [
        {
          "output_type": "display_data",
          "data": {
            "text/plain": [
              "<Figure size 3000x1000 with 1 Axes>"
            ],
            "image/png": "[encoded data removed]"
          },
          "metadata": {}
        }
      ]
    },
    {
      "cell_type": "markdown",
      "source": [
        "## Model DenseNet201"
      ],
      "metadata": {
        "id": "92lTRElBaj19"
      }
    },
    {
      "cell_type": "markdown",
      "source": [
        "### 1. Definisi Model DenseNet201"
      ],
      "metadata": {
        "id": "KoJgegqiatf9"
      }
    },
    {
      "cell_type": "code",
      "source": [
        "\n",
        "from tensorflow.keras.layers import Input , Dense , Flatten , GlobalAveragePooling2D\n",
        "from tensorflow.keras.models import Sequential\n",
        "from keras.models import Sequential\n",
        "from keras.layers import Conv2D, MaxPooling2D, Flatten, Dense, Activation, Dropout\n"
      ],
      "metadata": {
        "id": "msfLQkAmn_1P"
      },
      "execution_count": null,
      "outputs": []
    },
    {
      "cell_type": "code",
      "source": [
        "model_DenseNet201 = tf.keras.applications.DenseNet201(input_shape=(224,224,3), include_top = False, weights = 'imagenet', pooling = 'max')\n",
        "for layer in model_DenseNet201.layers:\n",
        "  layer.trainable = False\n",
        "model = Sequential()\n",
        "model.add(model_DenseNet201)\n",
        "model.add(Dense(256, activation=\"relu\"))\n",
        "model.add(Dropout(0.2))\n",
        "model.add(Dense(128, activation=\"relu\"))\n",
        "model.add(Dropout(0.2))\n",
        "model.add(Dense(2, activation = \"softmax\", name=\"classification\"))"
      ],
      "metadata": {
        "id": "CtCKECGpMUgM",
        "colab": {
          "base_uri": "https://localhost:8080/"
        },
        "outputId": "82477391-3098-461b-f774-940bf74a7bfb"
      },
      "execution_count": null,
      "outputs": [
        {
          "output_type": "stream",
          "name": "stdout",
          "text": [
            "Downloading data from https://storage.googleapis.com/tensorflow/keras-applications/densenet/densenet201_weights_tf_dim_ordering_tf_kernels_notop.h5\n",
            "74836368/74836368 [==============================] - 4s 0us/step\n"
          ]
        }
      ]
    },
    {
      "cell_type": "markdown",
      "source": [
        "### 2. Menambahkan definisi loss, optimizer, dan metrics pada model"
      ],
      "metadata": {
        "id": "Qw75b_-zbKMA"
      }
    },
    {
      "cell_type": "code",
      "source": [
        "model.compile(loss = 'binary_crossentropy',\n",
        "              optimizer = Adam(learning_rate=0.00001),\n",
        "              metrics = ['accuracy'])\n",
        "\n",
        "model.summary()"
      ],
      "metadata": {
        "id": "AM3KYkXrMZLL",
        "colab": {
          "base_uri": "https://localhost:8080/"
        },
        "outputId": "9611e6e5-e079-4827-b24d-04d580144f7e"
      },
      "execution_count": null,
      "outputs": [
        {
          "output_type": "stream",
          "name": "stdout",
          "text": [
            "Model: \"sequential\"\n",
            "_________________________________________________________________\n",
            " Layer (type)                Output Shape              Param #   \n",
            "=================================================================\n",
            " densenet201 (Functional)    (None, 1920)              18321984  \n",
            "                                                                 \n",
            " dense (Dense)               (None, 256)               491776    \n",
            "                                                                 \n",
            " dropout (Dropout)           (None, 256)               0         \n",
            "                                                                 \n",
            " dense_1 (Dense)             (None, 128)               32896     \n",
            "                                                                 \n",
            " dropout_1 (Dropout)         (None, 128)               0         \n",
            "                                                                 \n",
            " classification (Dense)      (None, 2)                 258       \n",
            "                                                                 \n",
            "=================================================================\n",
            "Total params: 18,846,914\n",
            "Trainable params: 524,930\n",
            "Non-trainable params: 18,321,984\n",
            "_________________________________________________________________\n"
          ]
        }
      ]
    },
    {
      "cell_type": "markdown",
      "source": [
        "### 3. Menambahkan Callbacks dengan fungsi ModelCheckpoint untuk menyimpan model, dan CSVLogger untuk menyimpan plot hasil training"
      ],
      "metadata": {
        "id": "deiqsMufblU1"
      }
    },
    {
      "cell_type": "code",
      "source": [
        "from tensorflow.keras.callbacks import ModelCheckpoint, CSVLogger\n",
        "filepath =  '/content/drive/My Drive/plasticproject/PlasticBottle_model_DenseNet201_3New_datasets2.h5'\n",
        "checkpoint = ModelCheckpoint(filepath, monitor='val_loss', verbose=1,\n",
        "                             save_best_only=False, mode='min')\n",
        "csv_logger = CSVLogger('/content/drive/My Drive/plasticproject/log_DenseNet201_3New_datasets2.csv', append=True)\n",
        "callbacks_list = [csv_logger, checkpoint]"
      ],
      "metadata": {
        "id": "IoZZdO30Mdv0"
      },
      "execution_count": null,
      "outputs": []
    },
    {
      "cell_type": "markdown",
      "source": [
        "### 4. Training"
      ],
      "metadata": {
        "id": "ZiPpVI5cb5pn"
      }
    },
    {
      "cell_type": "code",
      "source": [
        "# model training\n",
        "history = model.fit(\n",
        "            train_generator,\n",
        "            steps_per_epoch = 48 ,\n",
        "            epochs = 50,\n",
        "            validation_data = val_generator,\n",
        "            validation_steps = 20,\n",
        "            verbose=1,\n",
        "            callbacks=callbacks_list\n",
        ")\n",
        "\n",
        "# print(result)\n",
        "print(history.history.keys())\n",
        "print((history.history.values()))"
      ],
      "metadata": {
        "id": "yByDcDqxMhjr",
        "colab": {
          "base_uri": "https://localhost:8080/"
        },
        "outputId": "4fe72cf1-727e-45ae-f5e7-d907ed2606a8"
      },
      "execution_count": null,
      "outputs": [
        {
          "output_type": "stream",
          "name": "stdout",
          "text": [
            "Epoch 1/50\n",
            "48/48 [==============================] - ETA: 0s - loss: 4.6855 - accuracy: 0.5459\n",
            "Epoch 1: saving model to /content/drive/My Drive/plasticproject/PlasticBottle_model_DenseNet201_3New_datasets2.h5\n",
            "48/48 [==============================] - 508s 10s/step - loss: 4.6855 - accuracy: 0.5459 - val_loss: 0.7856 - val_accuracy: 0.7578\n",
            "Epoch 2/50\n",
            "48/48 [==============================] - ETA: 0s - loss: 2.2951 - accuracy: 0.6625\n",
            "Epoch 2: saving model to /content/drive/My Drive/plasticproject/PlasticBottle_model_DenseNet201_3New_datasets2.h5\n",
            "48/48 [==============================] - 30s 638ms/step - loss: 2.2951 - accuracy: 0.6625 - val_loss: 0.4420 - val_accuracy: 0.8875\n",
            "Epoch 3/50\n",
            "48/48 [==============================] - ETA: 0s - loss: 1.8534 - accuracy: 0.7110\n",
            "Epoch 3: saving model to /content/drive/My Drive/plasticproject/PlasticBottle_model_DenseNet201_3New_datasets2.h5\n",
            "48/48 [==============================] - 31s 644ms/step - loss: 1.8534 - accuracy: 0.7110 - val_loss: 0.3282 - val_accuracy: 0.9094\n",
            "Epoch 4/50\n",
            "48/48 [==============================] - ETA: 0s - loss: 1.4213 - accuracy: 0.7818\n",
            "Epoch 4: saving model to /content/drive/My Drive/plasticproject/PlasticBottle_model_DenseNet201_3New_datasets2.h5\n",
            "48/48 [==============================] - 31s 649ms/step - loss: 1.4213 - accuracy: 0.7818 - val_loss: 0.2964 - val_accuracy: 0.9203\n",
            "Epoch 5/50\n",
            "48/48 [==============================] - ETA: 0s - loss: 1.1274 - accuracy: 0.8132\n",
            "Epoch 5: saving model to /content/drive/My Drive/plasticproject/PlasticBottle_model_DenseNet201_3New_datasets2.h5\n",
            "48/48 [==============================] - 30s 630ms/step - loss: 1.1274 - accuracy: 0.8132 - val_loss: 0.2740 - val_accuracy: 0.9187\n",
            "Epoch 6/50\n",
            "48/48 [==============================] - ETA: 0s - loss: 0.8972 - accuracy: 0.8480\n",
            "Epoch 6: saving model to /content/drive/My Drive/plasticproject/PlasticBottle_model_DenseNet201_3New_datasets2.h5\n",
            "48/48 [==============================] - 30s 632ms/step - loss: 0.8972 - accuracy: 0.8480 - val_loss: 0.1987 - val_accuracy: 0.9438\n",
            "Epoch 7/50\n",
            "48/48 [==============================] - ETA: 0s - loss: 0.7952 - accuracy: 0.8532\n",
            "Epoch 7: saving model to /content/drive/My Drive/plasticproject/PlasticBottle_model_DenseNet201_3New_datasets2.h5\n",
            "48/48 [==============================] - 31s 640ms/step - loss: 0.7952 - accuracy: 0.8532 - val_loss: 0.1763 - val_accuracy: 0.9453\n",
            "Epoch 8/50\n",
            "48/48 [==============================] - ETA: 0s - loss: 0.6416 - accuracy: 0.8761\n",
            "Epoch 8: saving model to /content/drive/My Drive/plasticproject/PlasticBottle_model_DenseNet201_3New_datasets2.h5\n",
            "48/48 [==============================] - 30s 636ms/step - loss: 0.6416 - accuracy: 0.8761 - val_loss: 0.1569 - val_accuracy: 0.9547\n",
            "Epoch 9/50\n",
            "48/48 [==============================] - ETA: 0s - loss: 0.5448 - accuracy: 0.8971\n",
            "Epoch 9: saving model to /content/drive/My Drive/plasticproject/PlasticBottle_model_DenseNet201_3New_datasets2.h5\n",
            "48/48 [==============================] - 31s 640ms/step - loss: 0.5448 - accuracy: 0.8971 - val_loss: 0.1442 - val_accuracy: 0.9656\n",
            "Epoch 10/50\n",
            "48/48 [==============================] - ETA: 0s - loss: 0.5024 - accuracy: 0.9037\n",
            "Epoch 10: saving model to /content/drive/My Drive/plasticproject/PlasticBottle_model_DenseNet201_3New_datasets2.h5\n",
            "48/48 [==============================] - 31s 649ms/step - loss: 0.5024 - accuracy: 0.9037 - val_loss: 0.0734 - val_accuracy: 0.9766\n",
            "Epoch 11/50\n",
            "48/48 [==============================] - ETA: 0s - loss: 0.4502 - accuracy: 0.9083\n",
            "Epoch 11: saving model to /content/drive/My Drive/plasticproject/PlasticBottle_model_DenseNet201_3New_datasets2.h5\n",
            "48/48 [==============================] - 31s 650ms/step - loss: 0.4502 - accuracy: 0.9083 - val_loss: 0.1215 - val_accuracy: 0.9594\n",
            "Epoch 12/50\n",
            "48/48 [==============================] - ETA: 0s - loss: 0.3756 - accuracy: 0.9251\n",
            "Epoch 12: saving model to /content/drive/My Drive/plasticproject/PlasticBottle_model_DenseNet201_3New_datasets2.h5\n",
            "48/48 [==============================] - 30s 638ms/step - loss: 0.3756 - accuracy: 0.9251 - val_loss: 0.0932 - val_accuracy: 0.9750\n",
            "Epoch 13/50\n",
            "48/48 [==============================] - ETA: 0s - loss: 0.3743 - accuracy: 0.9181\n",
            "Epoch 13: saving model to /content/drive/My Drive/plasticproject/PlasticBottle_model_DenseNet201_3New_datasets2.h5\n",
            "48/48 [==============================] - 31s 641ms/step - loss: 0.3743 - accuracy: 0.9181 - val_loss: 0.0726 - val_accuracy: 0.9781\n",
            "Epoch 14/50\n",
            "48/48 [==============================] - ETA: 0s - loss: 0.3356 - accuracy: 0.9312\n",
            "Epoch 14: saving model to /content/drive/My Drive/plasticproject/PlasticBottle_model_DenseNet201_3New_datasets2.h5\n",
            "48/48 [==============================] - 30s 631ms/step - loss: 0.3356 - accuracy: 0.9312 - val_loss: 0.0840 - val_accuracy: 0.9750\n",
            "Epoch 15/50\n",
            "48/48 [==============================] - ETA: 0s - loss: 0.3678 - accuracy: 0.9214\n",
            "Epoch 15: saving model to /content/drive/My Drive/plasticproject/PlasticBottle_model_DenseNet201_3New_datasets2.h5\n",
            "48/48 [==============================] - 30s 626ms/step - loss: 0.3678 - accuracy: 0.9214 - val_loss: 0.1398 - val_accuracy: 0.9625\n",
            "Epoch 16/50\n",
            "48/48 [==============================] - ETA: 0s - loss: 0.2898 - accuracy: 0.9463\n",
            "Epoch 16: saving model to /content/drive/My Drive/plasticproject/PlasticBottle_model_DenseNet201_3New_datasets2.h5\n",
            "48/48 [==============================] - 30s 631ms/step - loss: 0.2898 - accuracy: 0.9463 - val_loss: 0.0749 - val_accuracy: 0.9766\n",
            "Epoch 17/50\n",
            "48/48 [==============================] - ETA: 0s - loss: 0.2649 - accuracy: 0.9436\n",
            "Epoch 17: saving model to /content/drive/My Drive/plasticproject/PlasticBottle_model_DenseNet201_3New_datasets2.h5\n",
            "48/48 [==============================] - 30s 625ms/step - loss: 0.2649 - accuracy: 0.9436 - val_loss: 0.0801 - val_accuracy: 0.9734\n",
            "Epoch 18/50\n",
            "48/48 [==============================] - ETA: 0s - loss: 0.3063 - accuracy: 0.9377\n",
            "Epoch 18: saving model to /content/drive/My Drive/plasticproject/PlasticBottle_model_DenseNet201_3New_datasets2.h5\n",
            "48/48 [==============================] - 30s 630ms/step - loss: 0.3063 - accuracy: 0.9377 - val_loss: 0.0967 - val_accuracy: 0.9703\n",
            "Epoch 19/50\n",
            "48/48 [==============================] - ETA: 0s - loss: 0.2177 - accuracy: 0.9548\n",
            "Epoch 19: saving model to /content/drive/My Drive/plasticproject/PlasticBottle_model_DenseNet201_3New_datasets2.h5\n",
            "48/48 [==============================] - 30s 632ms/step - loss: 0.2177 - accuracy: 0.9548 - val_loss: 0.0952 - val_accuracy: 0.9656\n",
            "Epoch 20/50\n",
            "48/48 [==============================] - ETA: 0s - loss: 0.2098 - accuracy: 0.9515\n",
            "Epoch 20: saving model to /content/drive/My Drive/plasticproject/PlasticBottle_model_DenseNet201_3New_datasets2.h5\n",
            "48/48 [==============================] - 30s 627ms/step - loss: 0.2098 - accuracy: 0.9515 - val_loss: 0.1242 - val_accuracy: 0.9625\n",
            "Epoch 21/50\n",
            "48/48 [==============================] - ETA: 0s - loss: 0.2344 - accuracy: 0.9443\n",
            "Epoch 21: saving model to /content/drive/My Drive/plasticproject/PlasticBottle_model_DenseNet201_3New_datasets2.h5\n",
            "48/48 [==============================] - 30s 636ms/step - loss: 0.2344 - accuracy: 0.9443 - val_loss: 0.1115 - val_accuracy: 0.9703\n",
            "Epoch 22/50\n",
            "48/48 [==============================] - ETA: 0s - loss: 0.2203 - accuracy: 0.9522\n",
            "Epoch 22: saving model to /content/drive/My Drive/plasticproject/PlasticBottle_model_DenseNet201_3New_datasets2.h5\n",
            "48/48 [==============================] - 31s 651ms/step - loss: 0.2203 - accuracy: 0.9522 - val_loss: 0.1017 - val_accuracy: 0.9750\n",
            "Epoch 23/50\n",
            "48/48 [==============================] - ETA: 0s - loss: 0.2140 - accuracy: 0.9541\n",
            "Epoch 23: saving model to /content/drive/My Drive/plasticproject/PlasticBottle_model_DenseNet201_3New_datasets2.h5\n",
            "48/48 [==============================] - 31s 640ms/step - loss: 0.2140 - accuracy: 0.9541 - val_loss: 0.1093 - val_accuracy: 0.9766\n",
            "Epoch 24/50\n",
            "48/48 [==============================] - ETA: 0s - loss: 0.1544 - accuracy: 0.9581\n",
            "Epoch 24: saving model to /content/drive/My Drive/plasticproject/PlasticBottle_model_DenseNet201_3New_datasets2.h5\n",
            "48/48 [==============================] - 30s 636ms/step - loss: 0.1544 - accuracy: 0.9581 - val_loss: 0.0559 - val_accuracy: 0.9859\n",
            "Epoch 25/50\n",
            "48/48 [==============================] - ETA: 0s - loss: 0.1595 - accuracy: 0.9640\n",
            "Epoch 25: saving model to /content/drive/My Drive/plasticproject/PlasticBottle_model_DenseNet201_3New_datasets2.h5\n",
            "48/48 [==============================] - 30s 625ms/step - loss: 0.1595 - accuracy: 0.9640 - val_loss: 0.0495 - val_accuracy: 0.9859\n",
            "Epoch 26/50\n",
            "48/48 [==============================] - ETA: 0s - loss: 0.1566 - accuracy: 0.9613\n",
            "Epoch 26: saving model to /content/drive/My Drive/plasticproject/PlasticBottle_model_DenseNet201_3New_datasets2.h5\n",
            "48/48 [==============================] - 30s 626ms/step - loss: 0.1566 - accuracy: 0.9613 - val_loss: 0.0527 - val_accuracy: 0.9828\n",
            "Epoch 27/50\n",
            "48/48 [==============================] - ETA: 0s - loss: 0.1705 - accuracy: 0.9646\n",
            "Epoch 27: saving model to /content/drive/My Drive/plasticproject/PlasticBottle_model_DenseNet201_3New_datasets2.h5\n",
            "48/48 [==============================] - 30s 621ms/step - loss: 0.1705 - accuracy: 0.9646 - val_loss: 0.1081 - val_accuracy: 0.9766\n",
            "Epoch 28/50\n",
            "48/48 [==============================] - ETA: 0s - loss: 0.1293 - accuracy: 0.9640\n",
            "Epoch 28: saving model to /content/drive/My Drive/plasticproject/PlasticBottle_model_DenseNet201_3New_datasets2.h5\n",
            "48/48 [==============================] - 30s 628ms/step - loss: 0.1293 - accuracy: 0.9640 - val_loss: 0.0479 - val_accuracy: 0.9828\n",
            "Epoch 29/50\n",
            "48/48 [==============================] - ETA: 0s - loss: 0.1608 - accuracy: 0.9600\n",
            "Epoch 29: saving model to /content/drive/My Drive/plasticproject/PlasticBottle_model_DenseNet201_3New_datasets2.h5\n",
            "48/48 [==============================] - 30s 621ms/step - loss: 0.1608 - accuracy: 0.9600 - val_loss: 0.0735 - val_accuracy: 0.9719\n",
            "Epoch 30/50\n",
            "48/48 [==============================] - ETA: 0s - loss: 0.1486 - accuracy: 0.9653\n",
            "Epoch 30: saving model to /content/drive/My Drive/plasticproject/PlasticBottle_model_DenseNet201_3New_datasets2.h5\n",
            "48/48 [==============================] - 30s 619ms/step - loss: 0.1486 - accuracy: 0.9653 - val_loss: 0.0864 - val_accuracy: 0.9734\n",
            "Epoch 31/50\n",
            "48/48 [==============================] - ETA: 0s - loss: 0.1252 - accuracy: 0.9725\n",
            "Epoch 31: saving model to /content/drive/My Drive/plasticproject/PlasticBottle_model_DenseNet201_3New_datasets2.h5\n",
            "48/48 [==============================] - 30s 618ms/step - loss: 0.1252 - accuracy: 0.9725 - val_loss: 0.0709 - val_accuracy: 0.9781\n",
            "Epoch 32/50\n",
            "48/48 [==============================] - ETA: 0s - loss: 0.1767 - accuracy: 0.9594\n",
            "Epoch 32: saving model to /content/drive/My Drive/plasticproject/PlasticBottle_model_DenseNet201_3New_datasets2.h5\n",
            "48/48 [==============================] - 30s 631ms/step - loss: 0.1767 - accuracy: 0.9594 - val_loss: 0.0611 - val_accuracy: 0.9797\n",
            "Epoch 33/50\n",
            "48/48 [==============================] - ETA: 0s - loss: 0.1617 - accuracy: 0.9600\n",
            "Epoch 33: saving model to /content/drive/My Drive/plasticproject/PlasticBottle_model_DenseNet201_3New_datasets2.h5\n",
            "48/48 [==============================] - 30s 628ms/step - loss: 0.1617 - accuracy: 0.9600 - val_loss: 0.0479 - val_accuracy: 0.9828\n",
            "Epoch 34/50\n",
            "48/48 [==============================] - ETA: 0s - loss: 0.1617 - accuracy: 0.9587\n",
            "Epoch 34: saving model to /content/drive/My Drive/plasticproject/PlasticBottle_model_DenseNet201_3New_datasets2.h5\n",
            "48/48 [==============================] - 30s 627ms/step - loss: 0.1617 - accuracy: 0.9587 - val_loss: 0.0482 - val_accuracy: 0.9859\n",
            "Epoch 35/50\n",
            "48/48 [==============================] - ETA: 0s - loss: 0.1088 - accuracy: 0.9718\n",
            "Epoch 35: saving model to /content/drive/My Drive/plasticproject/PlasticBottle_model_DenseNet201_3New_datasets2.h5\n",
            "48/48 [==============================] - 29s 605ms/step - loss: 0.1088 - accuracy: 0.9718 - val_loss: 0.0738 - val_accuracy: 0.9797\n",
            "Epoch 36/50\n",
            "48/48 [==============================] - ETA: 0s - loss: 0.0961 - accuracy: 0.9744\n",
            "Epoch 36: saving model to /content/drive/My Drive/plasticproject/PlasticBottle_model_DenseNet201_3New_datasets2.h5\n",
            "48/48 [==============================] - 29s 610ms/step - loss: 0.0961 - accuracy: 0.9744 - val_loss: 0.0723 - val_accuracy: 0.9844\n",
            "Epoch 37/50\n",
            "48/48 [==============================] - ETA: 0s - loss: 0.1182 - accuracy: 0.9744\n",
            "Epoch 37: saving model to /content/drive/My Drive/plasticproject/PlasticBottle_model_DenseNet201_3New_datasets2.h5\n",
            "48/48 [==============================] - 29s 616ms/step - loss: 0.1182 - accuracy: 0.9744 - val_loss: 0.0617 - val_accuracy: 0.9797\n",
            "Epoch 38/50\n",
            "48/48 [==============================] - ETA: 0s - loss: 0.1260 - accuracy: 0.9685\n",
            "Epoch 38: saving model to /content/drive/My Drive/plasticproject/PlasticBottle_model_DenseNet201_3New_datasets2.h5\n",
            "48/48 [==============================] - 29s 617ms/step - loss: 0.1260 - accuracy: 0.9685 - val_loss: 0.0402 - val_accuracy: 0.9844\n",
            "Epoch 39/50\n",
            "48/48 [==============================] - ETA: 0s - loss: 0.0958 - accuracy: 0.9744\n",
            "Epoch 39: saving model to /content/drive/My Drive/plasticproject/PlasticBottle_model_DenseNet201_3New_datasets2.h5\n",
            "48/48 [==============================] - 30s 619ms/step - loss: 0.0958 - accuracy: 0.9744 - val_loss: 0.0552 - val_accuracy: 0.9812\n",
            "Epoch 40/50\n",
            "48/48 [==============================] - ETA: 0s - loss: 0.0991 - accuracy: 0.9790\n",
            "Epoch 40: saving model to /content/drive/My Drive/plasticproject/PlasticBottle_model_DenseNet201_3New_datasets2.h5\n",
            "48/48 [==============================] - 29s 614ms/step - loss: 0.0991 - accuracy: 0.9790 - val_loss: 0.0812 - val_accuracy: 0.9797\n",
            "Epoch 41/50\n",
            "48/48 [==============================] - ETA: 0s - loss: 0.1200 - accuracy: 0.9679\n",
            "Epoch 41: saving model to /content/drive/My Drive/plasticproject/PlasticBottle_model_DenseNet201_3New_datasets2.h5\n",
            "48/48 [==============================] - 30s 618ms/step - loss: 0.1200 - accuracy: 0.9679 - val_loss: 0.0482 - val_accuracy: 0.9859\n",
            "Epoch 42/50\n",
            "48/48 [==============================] - ETA: 0s - loss: 0.1012 - accuracy: 0.9731\n",
            "Epoch 42: saving model to /content/drive/My Drive/plasticproject/PlasticBottle_model_DenseNet201_3New_datasets2.h5\n",
            "48/48 [==============================] - 30s 622ms/step - loss: 0.1012 - accuracy: 0.9731 - val_loss: 0.0774 - val_accuracy: 0.9812\n",
            "Epoch 43/50\n",
            "48/48 [==============================] - ETA: 0s - loss: 0.0976 - accuracy: 0.9758\n",
            "Epoch 43: saving model to /content/drive/My Drive/plasticproject/PlasticBottle_model_DenseNet201_3New_datasets2.h5\n",
            "48/48 [==============================] - 29s 613ms/step - loss: 0.0976 - accuracy: 0.9758 - val_loss: 0.0687 - val_accuracy: 0.9859\n",
            "Epoch 44/50\n",
            "48/48 [==============================] - ETA: 0s - loss: 0.0853 - accuracy: 0.9803\n",
            "Epoch 44: saving model to /content/drive/My Drive/plasticproject/PlasticBottle_model_DenseNet201_3New_datasets2.h5\n",
            "48/48 [==============================] - 29s 617ms/step - loss: 0.0853 - accuracy: 0.9803 - val_loss: 0.0427 - val_accuracy: 0.9859\n",
            "Epoch 45/50\n",
            "48/48 [==============================] - ETA: 0s - loss: 0.1127 - accuracy: 0.9744\n",
            "Epoch 45: saving model to /content/drive/My Drive/plasticproject/PlasticBottle_model_DenseNet201_3New_datasets2.h5\n",
            "48/48 [==============================] - 30s 622ms/step - loss: 0.1127 - accuracy: 0.9744 - val_loss: 0.0459 - val_accuracy: 0.9844\n",
            "Epoch 46/50\n",
            "48/48 [==============================] - ETA: 0s - loss: 0.1013 - accuracy: 0.9758\n",
            "Epoch 46: saving model to /content/drive/My Drive/plasticproject/PlasticBottle_model_DenseNet201_3New_datasets2.h5\n",
            "48/48 [==============================] - 30s 621ms/step - loss: 0.1013 - accuracy: 0.9758 - val_loss: 0.0714 - val_accuracy: 0.9875\n",
            "Epoch 47/50\n",
            "48/48 [==============================] - ETA: 0s - loss: 0.1012 - accuracy: 0.9759\n",
            "Epoch 47: saving model to /content/drive/My Drive/plasticproject/PlasticBottle_model_DenseNet201_3New_datasets2.h5\n",
            "48/48 [==============================] - 30s 619ms/step - loss: 0.1012 - accuracy: 0.9759 - val_loss: 0.0311 - val_accuracy: 0.9875\n",
            "Epoch 48/50\n",
            "48/48 [==============================] - ETA: 0s - loss: 0.0938 - accuracy: 0.9720\n",
            "Epoch 48: saving model to /content/drive/My Drive/plasticproject/PlasticBottle_model_DenseNet201_3New_datasets2.h5\n",
            "48/48 [==============================] - 29s 610ms/step - loss: 0.0938 - accuracy: 0.9720 - val_loss: 0.0435 - val_accuracy: 0.9844\n",
            "Epoch 49/50\n",
            "48/48 [==============================] - ETA: 0s - loss: 0.0771 - accuracy: 0.9830\n",
            "Epoch 49: saving model to /content/drive/My Drive/plasticproject/PlasticBottle_model_DenseNet201_3New_datasets2.h5\n",
            "48/48 [==============================] - 28s 595ms/step - loss: 0.0771 - accuracy: 0.9830 - val_loss: 0.0379 - val_accuracy: 0.9875\n",
            "Epoch 50/50\n",
            "48/48 [==============================] - ETA: 0s - loss: 0.0828 - accuracy: 0.9751\n",
            "Epoch 50: saving model to /content/drive/My Drive/plasticproject/PlasticBottle_model_DenseNet201_3New_datasets2.h5\n",
            "48/48 [==============================] - 29s 599ms/step - loss: 0.0828 - accuracy: 0.9751 - val_loss: 0.0592 - val_accuracy: 0.9859\n",
            "dict_keys(['loss', 'accuracy', 'val_loss', 'val_accuracy'])\n",
            "dict_values([[4.685521125793457, 2.2950708866119385, 1.8534454107284546, 1.4213318824768066, 1.1273629665374756, 0.8971629738807678, 0.7952245473861694, 0.6416305303573608, 0.5447955131530762, 0.5023741126060486, 0.4501521587371826, 0.37559035420417786, 0.37426865100860596, 0.3355717957019806, 0.3677684962749481, 0.28982630372047424, 0.2648989260196686, 0.30627089738845825, 0.21765778958797455, 0.20982769131660461, 0.23438890278339386, 0.22030000388622284, 0.214013934135437, 0.15440019965171814, 0.1594960242509842, 0.1565818190574646, 0.17049574851989746, 0.12931910157203674, 0.16076047718524933, 0.14860470592975616, 0.1251537799835205, 0.17668794095516205, 0.16169026494026184, 0.16172701120376587, 0.10883219540119171, 0.09606892615556717, 0.1181880384683609, 0.1260201334953308, 0.09578333795070648, 0.099065400660038, 0.1199892908334732, 0.10121699422597885, 0.09758805483579636, 0.08531945198774338, 0.11268148571252823, 0.10134952515363693, 0.1011756956577301, 0.09377852827310562, 0.07705677300691605, 0.08284743875265121], [0.5458715558052063, 0.6625163555145264, 0.71100914478302, 0.7817824482917786, 0.8132372498512268, 0.8479685187339783, 0.853210985660553, 0.8761467933654785, 0.8971166610717773, 0.9036697149276733, 0.9082568883895874, 0.9251301884651184, 0.9180865287780762, 0.9311926364898682, 0.9213630557060242, 0.9462647438049316, 0.9436435103416443, 0.9377457499504089, 0.9547837376594543, 0.9515072107315063, 0.9442988038063049, 0.952162504196167, 0.9541284441947937, 0.9580602645874023, 0.9639580845832825, 0.9613368511199951, 0.9646133780479431, 0.9639580845832825, 0.960026204586029, 0.9652686715126038, 0.9724770784378052, 0.9593709111213684, 0.960026204586029, 0.9587156176567078, 0.9718217849731445, 0.9744429588317871, 0.9744429588317871, 0.9685451984405518, 0.9744429588317871, 0.9790301322937012, 0.9678899049758911, 0.9731323719024658, 0.9757536053657532, 0.9803407788276672, 0.9744429588317871, 0.9757536053657532, 0.9759114384651184, 0.9720051884651184, 0.9829620122909546, 0.9750983119010925], [0.785591185092926, 0.44197043776512146, 0.32819288969039917, 0.29642707109451294, 0.27401500940322876, 0.19867977499961853, 0.17633545398712158, 0.15690617263317108, 0.14415165781974792, 0.07340788096189499, 0.12154040485620499, 0.09315431118011475, 0.07258760929107666, 0.0839812159538269, 0.1398419439792633, 0.07487548142671585, 0.08009469509124756, 0.09668323397636414, 0.0952405333518982, 0.12420705705881119, 0.11151108890771866, 0.10172438621520996, 0.10934140533208847, 0.05594360828399658, 0.049546632915735245, 0.0527086965739727, 0.10809119045734406, 0.04793167486786842, 0.07353980094194412, 0.08643575757741928, 0.07092183828353882, 0.06110144406557083, 0.04786897078156471, 0.04820878431200981, 0.07379507273435593, 0.07227856665849686, 0.06172150373458862, 0.04021624103188515, 0.05523039028048515, 0.08115331828594208, 0.04822482168674469, 0.07736386358737946, 0.06868664920330048, 0.042721763253211975, 0.04591788724064827, 0.0713706836104393, 0.031146949157118797, 0.04351074621081352, 0.037938885390758514, 0.0591614656150341], [0.7578125, 0.887499988079071, 0.909375011920929, 0.9203125238418579, 0.918749988079071, 0.9437500238418579, 0.9453125, 0.9546874761581421, 0.965624988079071, 0.9765625, 0.9593750238418579, 0.9750000238418579, 0.9781249761581421, 0.9750000238418579, 0.9624999761581421, 0.9765625, 0.973437488079071, 0.9703124761581421, 0.965624988079071, 0.9624999761581421, 0.9703124761581421, 0.9750000238418579, 0.9765625, 0.9859374761581421, 0.9859374761581421, 0.9828125238418579, 0.9765625, 0.9828125238418579, 0.971875011920929, 0.973437488079071, 0.9781249761581421, 0.979687511920929, 0.9828125238418579, 0.9859374761581421, 0.979687511920929, 0.984375, 0.979687511920929, 0.984375, 0.981249988079071, 0.979687511920929, 0.9859374761581421, 0.981249988079071, 0.9859374761581421, 0.9859374761581421, 0.984375, 0.987500011920929, 0.987500011920929, 0.984375, 0.987500011920929, 0.9859374761581421]])\n"
          ]
        }
      ]
    },
    {
      "cell_type": "markdown",
      "source": [
        "## Post-Training"
      ],
      "metadata": {
        "id": "OzIqBJr1ceLE"
      }
    },
    {
      "cell_type": "markdown",
      "source": [
        "### 1. Menampilkan grafik akurasi dan loss"
      ],
      "metadata": {
        "id": "_zyqCI0Pcvwd"
      }
    },
    {
      "cell_type": "code",
      "source": [
        "# grafik akurasi\n",
        "\n",
        "%matplotlib inline\n",
        "\n",
        "import matplotlib.image as mpimg\n",
        "import matplotlib.pyplot as plt\n",
        "\n",
        "acc = history.history['accuracy']\n",
        "val_acc = history.history['val_accuracy']\n",
        "loss = history.history['loss']\n",
        "val_loss = history.history['val_loss']\n",
        "\n",
        "epochs = range(len(acc))\n",
        "\n",
        "plt.plot(epochs, acc, 'r', label = 'Training Accuracy')\n",
        "plt.plot(epochs, val_acc, 'b', label = 'Validation Accuracy')\n",
        "plt.title('Trainign and Validation Accuracy')\n",
        "plt.legend(loc = 'best')\n",
        "plt.show()\n",
        "\n",
        "plt.plot(epochs, loss, 'r', label = 'Training Loss')\n",
        "plt.plot(epochs, val_loss, 'b', label = 'Validation Loss')\n",
        "plt.title('Trainign and Validation Loss')\n",
        "plt.legend(loc = 'best')\n",
        "plt.show()"
      ],
      "metadata": {
        "id": "N9zJAhaGMqyf",
        "colab": {
          "base_uri": "https://localhost:8080/",
          "height": 887
        },
        "outputId": "a2bb1112-eca8-4abc-ab95-f089d5f26f4c"
      },
      "execution_count": null,
      "outputs": [
        {
          "output_type": "display_data",
          "data": {
            "text/plain": [
              "<Figure size 640x480 with 1 Axes>"
            ],
            "image/png": "[encoded data removed]"
          },
          "metadata": {}
        },
        {
          "output_type": "display_data",
          "data": {
            "text/plain": [
              "<Figure size 640x480 with 1 Axes>"
            ],
            "image/png": "[encoded data removed]"
          },
          "metadata": {}
        }
      ]
    },
    {
      "cell_type": "markdown",
      "source": [
        "### 2. Menampilkan Confusion Matrix"
      ],
      "metadata": {
        "id": "gHmDb4O3cidd"
      }
    },
    {
      "cell_type": "code",
      "source": [
        "#Plot the confusion matrix. Set Normalize = True/False\n",
        "\n",
        "def plot_confusion_matrix(cm, classes, normalize=False, title='Confusion matrix', cmap=plt.cm.Blues):\n",
        "    \"\"\"\n",
        "    This function prints and plots the confusion matrix.\n",
        "    Normalization can be applied by setting `normalize=True`.\n",
        "    \"\"\"\n",
        "    plt.figure(figsize=(20,20))\n",
        "\n",
        "    plt.imshow(cm, interpolation='nearest', cmap=cmap)\n",
        "    plt.title(title)\n",
        "    plt.colorbar()\n",
        "\n",
        "    tick_marks = np.arange(len(classes))\n",
        "    plt.xticks(tick_marks, classes, rotation=45)\n",
        "    plt.yticks(tick_marks, classes)\n",
        "\n",
        "    if normalize:\n",
        "        cm = cm.astype('float') / cm.sum(axis=1)[:, np.newaxis]\n",
        "        cm = np.around(cm, decimals=2)\n",
        "        cm[np.isnan(cm)] = 0.0\n",
        "        print(\"Normalized confusion matrix\")\n",
        "    else:\n",
        "        print('Confusion matrix, without normalization')\n",
        "    thresh = cm.max() / 2.\n",
        "    for i, j in itertools.product(range(cm.shape[0]), range(cm.shape[1])):\n",
        "        plt.text(j, i, cm[i, j],\n",
        "                 horizontalalignment=\"center\",\n",
        "                 color=\"white\" if cm[i, j] > thresh else \"black\")\n",
        "    plt.tight_layout()\n",
        "    plt.ylabel('True label')\n",
        "    plt.xlabel('Predicted label')\n",
        "\n",
        "#Print the Target names\n",
        "from sklearn.metrics import classification_report, confusion_matrix\n",
        "import itertools\n",
        "#shuffle=False\n",
        "\n",
        "target_names = []\n",
        "for key in train_generator.class_indices:\n",
        "    target_names.append(key)\n",
        "\n",
        "# print(target_names)\n",
        "\n",
        "#Confution Matrix\n",
        "\n",
        "Y_pred = model.predict_generator(test_generator)\n",
        "y_pred = np.argmax(Y_pred, axis=1)\n",
        "print('Confusion Matrix')\n",
        "cm = confusion_matrix(test_generator.classes, y_pred)\n",
        "plot_confusion_matrix(cm, target_names, title='Confusion Matrix')\n",
        "\n",
        "#Print Classification Report\n",
        "print('Classification Report')\n",
        "print(classification_report(test_generator.classes, y_pred, target_names=target_names))"
      ],
      "metadata": {
        "id": "plCE0imNMnWu",
        "colab": {
          "base_uri": "https://localhost:8080/",
          "height": 1000
        },
        "outputId": "ade963cb-85c3-4518-95f5-d2d43767793b"
      },
      "execution_count": null,
      "outputs": [
        {
          "output_type": "stream",
          "name": "stderr",
          "text": [
            "<ipython-input-17-bca821d8af46>:47: UserWarning: `Model.predict_generator` is deprecated and will be removed in a future version. Please use `Model.predict`, which supports generators.\n",
            "  Y_pred = model.predict_generator(test_generator)\n"
          ]
        },
        {
          "output_type": "stream",
          "name": "stdout",
          "text": [
            "Confusion Matrix\n",
            "Confusion matrix, without normalization\n",
            "Classification Report\n",
            "              precision    recall  f1-score   support\n",
            "\n",
            "        HDPE       0.99      0.98      0.98       354\n",
            "         PET       0.98      0.98      0.98       315\n",
            "\n",
            "    accuracy                           0.98       669\n",
            "   macro avg       0.98      0.98      0.98       669\n",
            "weighted avg       0.98      0.98      0.98       669\n",
            "\n"
          ]
        },
        {
          "output_type": "display_data",
          "data": {
            "text/plain": [
              "<Figure size 2000x2000 with 2 Axes>"
            ],
            "image/png": "[encoded data removed]"
          },
          "metadata": {}
        }
      ]
    }
  ]
}